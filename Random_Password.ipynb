{
 "cells": [
  {
   "cell_type": "code",
   "execution_count": 7,
   "metadata": {},
   "outputs": [
    {
     "name": "stdout",
     "output_type": "stream",
     "text": [
      "&}f]d-a5)DAGBe24\n"
     ]
    }
   ],
   "source": [
    "import random\n",
    "\n",
    "upper=\"ABCDEFG\"\n",
    "lower=\"abcdefg\"\n",
    "num=\"12345\"\n",
    "special=\"{}[]()*&_-/\"\n",
    "\n",
    "all=upper+lower+num+special\n",
    "length=16\n",
    "password=\"\".join(random.sample(all,length))\n",
    "print(password)"
   ]
  },
  {
   "cell_type": "markdown",
   "metadata": {},
   "source": [
    "Change the value of length to generate a password of desired length"
   ]
  },
  {
   "cell_type": "code",
   "execution_count": null,
   "metadata": {},
   "outputs": [],
   "source": []
  }
 ],
 "metadata": {
  "kernelspec": {
   "display_name": "Python 3",
   "language": "python",
   "name": "python3"
  },
  "language_info": {
   "codemirror_mode": {
    "name": "ipython",
    "version": 3
   },
   "file_extension": ".py",
   "mimetype": "text/x-python",
   "name": "python",
   "nbconvert_exporter": "python",
   "pygments_lexer": "ipython3",
   "version": "3.8.5"
  }
 },
 "nbformat": 4,
 "nbformat_minor": 4
}
